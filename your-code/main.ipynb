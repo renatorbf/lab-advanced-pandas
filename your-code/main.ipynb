{
  "cells": [
    {
      "cell_type": "markdown",
      "metadata": {
        "id": "P0K5IEbMsYIN"
      },
      "source": [
        "# Before your start:\n",
        "- Read the README.md file\n",
        "- Comment as much as you can and use the resources (README.md file)\n",
        "- Happy learning!"
      ]
    },
    {
      "cell_type": "code",
      "execution_count": 1,
      "metadata": {
        "id": "IICr5NzTsYIW"
      },
      "outputs": [],
      "source": [
        "# Libraries\n",
        "import pandas as pd"
      ]
    },
    {
      "cell_type": "markdown",
      "metadata": {
        "id": "LIXo8_qWsYIY"
      },
      "source": [
        "# Challenge 1 - Index Functions\n",
        "\n",
        "In this challenge, we will practice the advanced functions introduced in the lesson. However, before we start, we will load and evaluate our dataset. \n",
        "\n",
        "Load the dataset from Ironhack's database:\n",
        "* db: `admissions predict`\n",
        "* table: `admissions predict`"
      ]
    },
    {
      "cell_type": "code",
      "execution_count": 18,
      "metadata": {
        "id": "Cs8jHL01sYIa"
      },
      "outputs": [],
      "source": [
        "# your code here\n",
        "\n",
        "admissions = pd.read_csv('https://raw.githubusercontent.com/ta-data-lis/lab-advanced-pandas/master/your-code/data/Admission_Predict.csv')"
      ]
    },
    {
      "cell_type": "markdown",
      "metadata": {
        "id": "nkz7YlpGsYIb"
      },
      "source": [
        "Remove trailing spaces at the end of the column names if there are any.\n"
      ]
    },
    {
      "cell_type": "code",
      "execution_count": 19,
      "metadata": {
        "id": "8r47m2ChsYIc"
      },
      "outputs": [],
      "source": [
        "# your code here\n",
        "a = list(admissions.columns)\n",
        "a\n",
        "\n",
        "b = [element.strip() for element in a]\n",
        "b\n",
        "admissions.columns = b\n",
        "admissions.columns\n",
        "\n",
        "del a,b"
      ]
    },
    {
      "cell_type": "markdown",
      "metadata": {
        "id": "DsMzpWtosYId"
      },
      "source": [
        "Let's evaluate the dataset by looking at the `head` function."
      ]
    },
    {
      "cell_type": "code",
      "execution_count": 20,
      "metadata": {
        "id": "d3hmb0OOsYIf",
        "outputId": "b1a99a1e-b202-414f-d35e-549ad3947281",
        "colab": {
          "base_uri": "https://localhost:8080/",
          "height": 206
        }
      },
      "outputs": [
        {
          "output_type": "execute_result",
          "data": {
            "text/html": [
              "<div>\n",
              "<style scoped>\n",
              "    .dataframe tbody tr th:only-of-type {\n",
              "        vertical-align: middle;\n",
              "    }\n",
              "\n",
              "    .dataframe tbody tr th {\n",
              "        vertical-align: top;\n",
              "    }\n",
              "\n",
              "    .dataframe thead th {\n",
              "        text-align: right;\n",
              "    }\n",
              "</style>\n",
              "<table border=\"1\" class=\"dataframe\">\n",
              "  <thead>\n",
              "    <tr style=\"text-align: right;\">\n",
              "      <th></th>\n",
              "      <th>Serial No.</th>\n",
              "      <th>GRE Score</th>\n",
              "      <th>TOEFL Score</th>\n",
              "      <th>University Rating</th>\n",
              "      <th>SOP</th>\n",
              "      <th>LOR</th>\n",
              "      <th>CGPA</th>\n",
              "      <th>Research</th>\n",
              "      <th>Chance of Admit</th>\n",
              "    </tr>\n",
              "  </thead>\n",
              "  <tbody>\n",
              "    <tr>\n",
              "      <th>0</th>\n",
              "      <td>1</td>\n",
              "      <td>337</td>\n",
              "      <td>118</td>\n",
              "      <td>4</td>\n",
              "      <td>4.5</td>\n",
              "      <td>4.5</td>\n",
              "      <td>9.65</td>\n",
              "      <td>1</td>\n",
              "      <td>0.92</td>\n",
              "    </tr>\n",
              "    <tr>\n",
              "      <th>1</th>\n",
              "      <td>2</td>\n",
              "      <td>316</td>\n",
              "      <td>104</td>\n",
              "      <td>3</td>\n",
              "      <td>3.0</td>\n",
              "      <td>3.5</td>\n",
              "      <td>8.00</td>\n",
              "      <td>1</td>\n",
              "      <td>0.72</td>\n",
              "    </tr>\n",
              "    <tr>\n",
              "      <th>2</th>\n",
              "      <td>3</td>\n",
              "      <td>322</td>\n",
              "      <td>110</td>\n",
              "      <td>3</td>\n",
              "      <td>3.5</td>\n",
              "      <td>2.5</td>\n",
              "      <td>8.67</td>\n",
              "      <td>1</td>\n",
              "      <td>0.80</td>\n",
              "    </tr>\n",
              "    <tr>\n",
              "      <th>3</th>\n",
              "      <td>4</td>\n",
              "      <td>314</td>\n",
              "      <td>103</td>\n",
              "      <td>2</td>\n",
              "      <td>2.0</td>\n",
              "      <td>3.0</td>\n",
              "      <td>8.21</td>\n",
              "      <td>0</td>\n",
              "      <td>0.65</td>\n",
              "    </tr>\n",
              "    <tr>\n",
              "      <th>4</th>\n",
              "      <td>5</td>\n",
              "      <td>330</td>\n",
              "      <td>115</td>\n",
              "      <td>5</td>\n",
              "      <td>4.5</td>\n",
              "      <td>3.0</td>\n",
              "      <td>9.34</td>\n",
              "      <td>1</td>\n",
              "      <td>0.90</td>\n",
              "    </tr>\n",
              "  </tbody>\n",
              "</table>\n",
              "</div>"
            ],
            "text/plain": [
              "   Serial No.  GRE Score  TOEFL Score  ...  CGPA  Research  Chance of Admit\n",
              "0           1        337          118  ...  9.65         1             0.92\n",
              "1           2        316          104  ...  8.00         1             0.72\n",
              "2           3        322          110  ...  8.67         1             0.80\n",
              "3           4        314          103  ...  8.21         0             0.65\n",
              "4           5        330          115  ...  9.34         1             0.90\n",
              "\n",
              "[5 rows x 9 columns]"
            ]
          },
          "metadata": {},
          "execution_count": 20
        }
      ],
      "source": [
        "# your code here\n",
        "admissions.head()"
      ]
    },
    {
      "cell_type": "markdown",
      "metadata": {
        "id": "5rNxFD-lsYIh"
      },
      "source": [
        "Before beginning to work with this dataset and evaluating graduate admissions data, we will verify that there is no missing data in the dataset. Do this in the cell below."
      ]
    },
    {
      "cell_type": "code",
      "execution_count": 24,
      "metadata": {
        "id": "0r9bjP6jsYIi",
        "outputId": "7f3c6d40-f8fd-48dd-a65a-08d810dff9ed",
        "colab": {
          "base_uri": "https://localhost:8080/"
        }
      },
      "outputs": [
        {
          "output_type": "execute_result",
          "data": {
            "text/plain": [
              "Serial No.  GRE Score  TOEFL Score  University Rating  SOP    LOR    CGPA   Research  Chance of Admit\n",
              "False       False      False        False              False  False  False  False     False              385\n",
              "dtype: int64"
            ]
          },
          "metadata": {},
          "execution_count": 24
        }
      ],
      "source": [
        "# your code here\n",
        "admissions.isnull().value_counts()"
      ]
    },
    {
      "cell_type": "markdown",
      "metadata": {
        "id": "Lq5rxcBisYIj"
      },
      "source": [
        "Interestingly, there is a column that uniquely identifies the applicants. This column is the serial number column. Instead of having our own index, we should make this column our index. Do this in the cell below. Keep the column in the dataframe in addition to making it an index."
      ]
    },
    {
      "cell_type": "code",
      "execution_count": 26,
      "metadata": {
        "id": "pGCta2vgsYIl",
        "outputId": "d889bd5a-84fe-4f48-81b5-281f90abf6b9",
        "colab": {
          "base_uri": "https://localhost:8080/",
          "height": 237
        }
      },
      "outputs": [
        {
          "output_type": "execute_result",
          "data": {
            "text/html": [
              "<div>\n",
              "<style scoped>\n",
              "    .dataframe tbody tr th:only-of-type {\n",
              "        vertical-align: middle;\n",
              "    }\n",
              "\n",
              "    .dataframe tbody tr th {\n",
              "        vertical-align: top;\n",
              "    }\n",
              "\n",
              "    .dataframe thead th {\n",
              "        text-align: right;\n",
              "    }\n",
              "</style>\n",
              "<table border=\"1\" class=\"dataframe\">\n",
              "  <thead>\n",
              "    <tr style=\"text-align: right;\">\n",
              "      <th></th>\n",
              "      <th>GRE Score</th>\n",
              "      <th>TOEFL Score</th>\n",
              "      <th>University Rating</th>\n",
              "      <th>SOP</th>\n",
              "      <th>LOR</th>\n",
              "      <th>CGPA</th>\n",
              "      <th>Research</th>\n",
              "      <th>Chance of Admit</th>\n",
              "    </tr>\n",
              "    <tr>\n",
              "      <th>Serial No.</th>\n",
              "      <th></th>\n",
              "      <th></th>\n",
              "      <th></th>\n",
              "      <th></th>\n",
              "      <th></th>\n",
              "      <th></th>\n",
              "      <th></th>\n",
              "      <th></th>\n",
              "    </tr>\n",
              "  </thead>\n",
              "  <tbody>\n",
              "    <tr>\n",
              "      <th>1</th>\n",
              "      <td>337</td>\n",
              "      <td>118</td>\n",
              "      <td>4</td>\n",
              "      <td>4.5</td>\n",
              "      <td>4.5</td>\n",
              "      <td>9.65</td>\n",
              "      <td>1</td>\n",
              "      <td>0.92</td>\n",
              "    </tr>\n",
              "    <tr>\n",
              "      <th>2</th>\n",
              "      <td>316</td>\n",
              "      <td>104</td>\n",
              "      <td>3</td>\n",
              "      <td>3.0</td>\n",
              "      <td>3.5</td>\n",
              "      <td>8.00</td>\n",
              "      <td>1</td>\n",
              "      <td>0.72</td>\n",
              "    </tr>\n",
              "    <tr>\n",
              "      <th>3</th>\n",
              "      <td>322</td>\n",
              "      <td>110</td>\n",
              "      <td>3</td>\n",
              "      <td>3.5</td>\n",
              "      <td>2.5</td>\n",
              "      <td>8.67</td>\n",
              "      <td>1</td>\n",
              "      <td>0.80</td>\n",
              "    </tr>\n",
              "    <tr>\n",
              "      <th>4</th>\n",
              "      <td>314</td>\n",
              "      <td>103</td>\n",
              "      <td>2</td>\n",
              "      <td>2.0</td>\n",
              "      <td>3.0</td>\n",
              "      <td>8.21</td>\n",
              "      <td>0</td>\n",
              "      <td>0.65</td>\n",
              "    </tr>\n",
              "    <tr>\n",
              "      <th>5</th>\n",
              "      <td>330</td>\n",
              "      <td>115</td>\n",
              "      <td>5</td>\n",
              "      <td>4.5</td>\n",
              "      <td>3.0</td>\n",
              "      <td>9.34</td>\n",
              "      <td>1</td>\n",
              "      <td>0.90</td>\n",
              "    </tr>\n",
              "  </tbody>\n",
              "</table>\n",
              "</div>"
            ],
            "text/plain": [
              "            GRE Score  TOEFL Score  ...  Research  Chance of Admit\n",
              "Serial No.                          ...                           \n",
              "1                 337          118  ...         1             0.92\n",
              "2                 316          104  ...         1             0.72\n",
              "3                 322          110  ...         1             0.80\n",
              "4                 314          103  ...         0             0.65\n",
              "5                 330          115  ...         1             0.90\n",
              "\n",
              "[5 rows x 8 columns]"
            ]
          },
          "metadata": {},
          "execution_count": 26
        }
      ],
      "source": [
        "# your code here\n",
        "admissions.set_index('Serial No.', inplace=True)\n",
        "admissions.head()"
      ]
    },
    {
      "cell_type": "markdown",
      "metadata": {
        "id": "YL1LTwzMsYIm"
      },
      "source": [
        "Turns out that `GRE Score` and `CGPA` also uniquely identify the data. Show this in the cell below."
      ]
    },
    {
      "cell_type": "code",
      "execution_count": 79,
      "metadata": {
        "id": "5D5QWy0jsYIn",
        "outputId": "ae3d081b-0fb5-4343-cbd6-ebf54bb84c53",
        "colab": {
          "base_uri": "https://localhost:8080/"
        }
      },
      "outputs": [
        {
          "output_type": "stream",
          "name": "stdout",
          "text": [
            "385\n",
            "385\n"
          ]
        }
      ],
      "source": [
        "# your code here\n",
        "print(len(admissions))\n",
        "\n",
        "print(len(admissions.groupby(['GRE Score', 'CGPA'])))\n"
      ]
    },
    {
      "cell_type": "markdown",
      "metadata": {
        "id": "P6ReO0KrsYIo"
      },
      "source": [
        "Replace the index with an index comprised of two columns - `GRE Score` and `CGPA`. Remove the columns from the dataset as well. Make sure to use `inplace=True`."
      ]
    },
    {
      "cell_type": "code",
      "source": [
        "# your code here\n",
        "\n",
        "admissions.set_index(['GRE Score', 'CGPA'], inplace=True)\n",
        "admissions"
      ],
      "metadata": {
        "id": "sB2UWVilBG7i",
        "outputId": "3bbb53bb-1f80-4f08-cd92-d97d4472355d",
        "colab": {
          "base_uri": "https://localhost:8080/",
          "height": 455
        }
      },
      "execution_count": 84,
      "outputs": [
        {
          "output_type": "execute_result",
          "data": {
            "text/html": [
              "<div>\n",
              "<style scoped>\n",
              "    .dataframe tbody tr th:only-of-type {\n",
              "        vertical-align: middle;\n",
              "    }\n",
              "\n",
              "    .dataframe tbody tr th {\n",
              "        vertical-align: top;\n",
              "    }\n",
              "\n",
              "    .dataframe thead th {\n",
              "        text-align: right;\n",
              "    }\n",
              "</style>\n",
              "<table border=\"1\" class=\"dataframe\">\n",
              "  <thead>\n",
              "    <tr style=\"text-align: right;\">\n",
              "      <th></th>\n",
              "      <th></th>\n",
              "      <th>index</th>\n",
              "      <th>TOEFL Score</th>\n",
              "      <th>University Rating</th>\n",
              "      <th>SOP</th>\n",
              "      <th>LOR</th>\n",
              "      <th>Research</th>\n",
              "      <th>Chance of Admit</th>\n",
              "    </tr>\n",
              "    <tr>\n",
              "      <th>GRE Score</th>\n",
              "      <th>CGPA</th>\n",
              "      <th></th>\n",
              "      <th></th>\n",
              "      <th></th>\n",
              "      <th></th>\n",
              "      <th></th>\n",
              "      <th></th>\n",
              "      <th></th>\n",
              "    </tr>\n",
              "  </thead>\n",
              "  <tbody>\n",
              "    <tr>\n",
              "      <th>337</th>\n",
              "      <th>9.65</th>\n",
              "      <td>0</td>\n",
              "      <td>118</td>\n",
              "      <td>4</td>\n",
              "      <td>4.5</td>\n",
              "      <td>4.5</td>\n",
              "      <td>1</td>\n",
              "      <td>0.92</td>\n",
              "    </tr>\n",
              "    <tr>\n",
              "      <th>316</th>\n",
              "      <th>8.00</th>\n",
              "      <td>1</td>\n",
              "      <td>104</td>\n",
              "      <td>3</td>\n",
              "      <td>3.0</td>\n",
              "      <td>3.5</td>\n",
              "      <td>1</td>\n",
              "      <td>0.72</td>\n",
              "    </tr>\n",
              "    <tr>\n",
              "      <th>322</th>\n",
              "      <th>8.67</th>\n",
              "      <td>2</td>\n",
              "      <td>110</td>\n",
              "      <td>3</td>\n",
              "      <td>3.5</td>\n",
              "      <td>2.5</td>\n",
              "      <td>1</td>\n",
              "      <td>0.80</td>\n",
              "    </tr>\n",
              "    <tr>\n",
              "      <th>314</th>\n",
              "      <th>8.21</th>\n",
              "      <td>3</td>\n",
              "      <td>103</td>\n",
              "      <td>2</td>\n",
              "      <td>2.0</td>\n",
              "      <td>3.0</td>\n",
              "      <td>0</td>\n",
              "      <td>0.65</td>\n",
              "    </tr>\n",
              "    <tr>\n",
              "      <th>330</th>\n",
              "      <th>9.34</th>\n",
              "      <td>4</td>\n",
              "      <td>115</td>\n",
              "      <td>5</td>\n",
              "      <td>4.5</td>\n",
              "      <td>3.0</td>\n",
              "      <td>1</td>\n",
              "      <td>0.90</td>\n",
              "    </tr>\n",
              "    <tr>\n",
              "      <th>...</th>\n",
              "      <th>...</th>\n",
              "      <td>...</td>\n",
              "      <td>...</td>\n",
              "      <td>...</td>\n",
              "      <td>...</td>\n",
              "      <td>...</td>\n",
              "      <td>...</td>\n",
              "      <td>...</td>\n",
              "    </tr>\n",
              "    <tr>\n",
              "      <th>324</th>\n",
              "      <th>9.04</th>\n",
              "      <td>380</td>\n",
              "      <td>110</td>\n",
              "      <td>3</td>\n",
              "      <td>3.5</td>\n",
              "      <td>3.5</td>\n",
              "      <td>1</td>\n",
              "      <td>0.82</td>\n",
              "    </tr>\n",
              "    <tr>\n",
              "      <th>325</th>\n",
              "      <th>9.11</th>\n",
              "      <td>381</td>\n",
              "      <td>107</td>\n",
              "      <td>3</td>\n",
              "      <td>3.0</td>\n",
              "      <td>3.5</td>\n",
              "      <td>1</td>\n",
              "      <td>0.84</td>\n",
              "    </tr>\n",
              "    <tr>\n",
              "      <th>330</th>\n",
              "      <th>9.45</th>\n",
              "      <td>382</td>\n",
              "      <td>116</td>\n",
              "      <td>4</td>\n",
              "      <td>5.0</td>\n",
              "      <td>4.5</td>\n",
              "      <td>1</td>\n",
              "      <td>0.91</td>\n",
              "    </tr>\n",
              "    <tr>\n",
              "      <th>312</th>\n",
              "      <th>8.78</th>\n",
              "      <td>383</td>\n",
              "      <td>103</td>\n",
              "      <td>3</td>\n",
              "      <td>3.5</td>\n",
              "      <td>4.0</td>\n",
              "      <td>0</td>\n",
              "      <td>0.67</td>\n",
              "    </tr>\n",
              "    <tr>\n",
              "      <th>333</th>\n",
              "      <th>9.66</th>\n",
              "      <td>384</td>\n",
              "      <td>117</td>\n",
              "      <td>4</td>\n",
              "      <td>5.0</td>\n",
              "      <td>4.0</td>\n",
              "      <td>1</td>\n",
              "      <td>0.95</td>\n",
              "    </tr>\n",
              "  </tbody>\n",
              "</table>\n",
              "<p>385 rows × 7 columns</p>\n",
              "</div>"
            ],
            "text/plain": [
              "                index  TOEFL Score  ...  Research  Chance of Admit\n",
              "GRE Score CGPA                      ...                           \n",
              "337       9.65      0          118  ...         1             0.92\n",
              "316       8.00      1          104  ...         1             0.72\n",
              "322       8.67      2          110  ...         1             0.80\n",
              "314       8.21      3          103  ...         0             0.65\n",
              "330       9.34      4          115  ...         1             0.90\n",
              "...               ...          ...  ...       ...              ...\n",
              "324       9.04    380          110  ...         1             0.82\n",
              "325       9.11    381          107  ...         1             0.84\n",
              "330       9.45    382          116  ...         1             0.91\n",
              "312       8.78    383          103  ...         0             0.67\n",
              "333       9.66    384          117  ...         1             0.95\n",
              "\n",
              "[385 rows x 7 columns]"
            ]
          },
          "metadata": {},
          "execution_count": 84
        }
      ]
    },
    {
      "cell_type": "markdown",
      "metadata": {
        "id": "oRJ0TuhlsYIo"
      },
      "source": [
        "Now change the index back to a sequence starting at zero using the `reset_index` function. Make sure to use `inplace=True`."
      ]
    },
    {
      "cell_type": "code",
      "execution_count": 83,
      "metadata": {
        "id": "JR19mgJNsYIp",
        "outputId": "db97b79e-90f7-419c-ef2a-c4ac3285eead",
        "colab": {
          "base_uri": "https://localhost:8080/",
          "height": 423
        }
      },
      "outputs": [
        {
          "output_type": "execute_result",
          "data": {
            "text/html": [
              "<div>\n",
              "<style scoped>\n",
              "    .dataframe tbody tr th:only-of-type {\n",
              "        vertical-align: middle;\n",
              "    }\n",
              "\n",
              "    .dataframe tbody tr th {\n",
              "        vertical-align: top;\n",
              "    }\n",
              "\n",
              "    .dataframe thead th {\n",
              "        text-align: right;\n",
              "    }\n",
              "</style>\n",
              "<table border=\"1\" class=\"dataframe\">\n",
              "  <thead>\n",
              "    <tr style=\"text-align: right;\">\n",
              "      <th></th>\n",
              "      <th>index</th>\n",
              "      <th>GRE Score</th>\n",
              "      <th>CGPA</th>\n",
              "      <th>TOEFL Score</th>\n",
              "      <th>University Rating</th>\n",
              "      <th>SOP</th>\n",
              "      <th>LOR</th>\n",
              "      <th>Research</th>\n",
              "      <th>Chance of Admit</th>\n",
              "    </tr>\n",
              "  </thead>\n",
              "  <tbody>\n",
              "    <tr>\n",
              "      <th>0</th>\n",
              "      <td>0</td>\n",
              "      <td>337</td>\n",
              "      <td>9.65</td>\n",
              "      <td>118</td>\n",
              "      <td>4</td>\n",
              "      <td>4.5</td>\n",
              "      <td>4.5</td>\n",
              "      <td>1</td>\n",
              "      <td>0.92</td>\n",
              "    </tr>\n",
              "    <tr>\n",
              "      <th>1</th>\n",
              "      <td>1</td>\n",
              "      <td>316</td>\n",
              "      <td>8.00</td>\n",
              "      <td>104</td>\n",
              "      <td>3</td>\n",
              "      <td>3.0</td>\n",
              "      <td>3.5</td>\n",
              "      <td>1</td>\n",
              "      <td>0.72</td>\n",
              "    </tr>\n",
              "    <tr>\n",
              "      <th>2</th>\n",
              "      <td>2</td>\n",
              "      <td>322</td>\n",
              "      <td>8.67</td>\n",
              "      <td>110</td>\n",
              "      <td>3</td>\n",
              "      <td>3.5</td>\n",
              "      <td>2.5</td>\n",
              "      <td>1</td>\n",
              "      <td>0.80</td>\n",
              "    </tr>\n",
              "    <tr>\n",
              "      <th>3</th>\n",
              "      <td>3</td>\n",
              "      <td>314</td>\n",
              "      <td>8.21</td>\n",
              "      <td>103</td>\n",
              "      <td>2</td>\n",
              "      <td>2.0</td>\n",
              "      <td>3.0</td>\n",
              "      <td>0</td>\n",
              "      <td>0.65</td>\n",
              "    </tr>\n",
              "    <tr>\n",
              "      <th>4</th>\n",
              "      <td>4</td>\n",
              "      <td>330</td>\n",
              "      <td>9.34</td>\n",
              "      <td>115</td>\n",
              "      <td>5</td>\n",
              "      <td>4.5</td>\n",
              "      <td>3.0</td>\n",
              "      <td>1</td>\n",
              "      <td>0.90</td>\n",
              "    </tr>\n",
              "    <tr>\n",
              "      <th>...</th>\n",
              "      <td>...</td>\n",
              "      <td>...</td>\n",
              "      <td>...</td>\n",
              "      <td>...</td>\n",
              "      <td>...</td>\n",
              "      <td>...</td>\n",
              "      <td>...</td>\n",
              "      <td>...</td>\n",
              "      <td>...</td>\n",
              "    </tr>\n",
              "    <tr>\n",
              "      <th>380</th>\n",
              "      <td>380</td>\n",
              "      <td>324</td>\n",
              "      <td>9.04</td>\n",
              "      <td>110</td>\n",
              "      <td>3</td>\n",
              "      <td>3.5</td>\n",
              "      <td>3.5</td>\n",
              "      <td>1</td>\n",
              "      <td>0.82</td>\n",
              "    </tr>\n",
              "    <tr>\n",
              "      <th>381</th>\n",
              "      <td>381</td>\n",
              "      <td>325</td>\n",
              "      <td>9.11</td>\n",
              "      <td>107</td>\n",
              "      <td>3</td>\n",
              "      <td>3.0</td>\n",
              "      <td>3.5</td>\n",
              "      <td>1</td>\n",
              "      <td>0.84</td>\n",
              "    </tr>\n",
              "    <tr>\n",
              "      <th>382</th>\n",
              "      <td>382</td>\n",
              "      <td>330</td>\n",
              "      <td>9.45</td>\n",
              "      <td>116</td>\n",
              "      <td>4</td>\n",
              "      <td>5.0</td>\n",
              "      <td>4.5</td>\n",
              "      <td>1</td>\n",
              "      <td>0.91</td>\n",
              "    </tr>\n",
              "    <tr>\n",
              "      <th>383</th>\n",
              "      <td>383</td>\n",
              "      <td>312</td>\n",
              "      <td>8.78</td>\n",
              "      <td>103</td>\n",
              "      <td>3</td>\n",
              "      <td>3.5</td>\n",
              "      <td>4.0</td>\n",
              "      <td>0</td>\n",
              "      <td>0.67</td>\n",
              "    </tr>\n",
              "    <tr>\n",
              "      <th>384</th>\n",
              "      <td>384</td>\n",
              "      <td>333</td>\n",
              "      <td>9.66</td>\n",
              "      <td>117</td>\n",
              "      <td>4</td>\n",
              "      <td>5.0</td>\n",
              "      <td>4.0</td>\n",
              "      <td>1</td>\n",
              "      <td>0.95</td>\n",
              "    </tr>\n",
              "  </tbody>\n",
              "</table>\n",
              "<p>385 rows × 9 columns</p>\n",
              "</div>"
            ],
            "text/plain": [
              "     index  GRE Score  CGPA  TOEFL Score  ...  SOP  LOR  Research  Chance of Admit\n",
              "0        0        337  9.65          118  ...  4.5  4.5         1             0.92\n",
              "1        1        316  8.00          104  ...  3.0  3.5         1             0.72\n",
              "2        2        322  8.67          110  ...  3.5  2.5         1             0.80\n",
              "3        3        314  8.21          103  ...  2.0  3.0         0             0.65\n",
              "4        4        330  9.34          115  ...  4.5  3.0         1             0.90\n",
              "..     ...        ...   ...          ...  ...  ...  ...       ...              ...\n",
              "380    380        324  9.04          110  ...  3.5  3.5         1             0.82\n",
              "381    381        325  9.11          107  ...  3.0  3.5         1             0.84\n",
              "382    382        330  9.45          116  ...  5.0  4.5         1             0.91\n",
              "383    383        312  8.78          103  ...  3.5  4.0         0             0.67\n",
              "384    384        333  9.66          117  ...  5.0  4.0         1             0.95\n",
              "\n",
              "[385 rows x 9 columns]"
            ]
          },
          "metadata": {},
          "execution_count": 83
        }
      ],
      "source": [
        "admissions.reset_index(inplace=True)\n",
        "admissions"
      ]
    },
    {
      "cell_type": "markdown",
      "metadata": {
        "id": "UVtydra_sYIp"
      },
      "source": [
        "# Challenge 2 - Advanced Functions\n",
        "\n",
        "In this part of the lab, we would like to test complex conditions on the entire dataset at once. Let's start by finding the number of rows where the CGPA is higher than 9 and the student has conducted research."
      ]
    },
    {
      "cell_type": "code",
      "execution_count": null,
      "metadata": {
        "id": "60RiXUOtsYIq"
      },
      "outputs": [],
      "source": [
        "# your code here"
      ]
    },
    {
      "cell_type": "markdown",
      "metadata": {
        "id": "wRFzl-rasYIq"
      },
      "source": [
        "Now return all the rows where the CGPA is greater than 9 and the SOP score is less than 3.5. Find the mean chance of admit for these applicants."
      ]
    },
    {
      "cell_type": "code",
      "execution_count": null,
      "metadata": {
        "id": "rn8YkMsQsYIr"
      },
      "outputs": [],
      "source": [
        "# your code here"
      ]
    },
    {
      "cell_type": "markdown",
      "metadata": {
        "id": "3SSspSB1sYIr"
      },
      "source": [
        "We would like to create a deciding factor column for each student. We standardize several columns and then pick the most important factor from a lookup table. If the standardized value is above 0.8, the student will be accepted.\n",
        "\n",
        "We will start by creating a standardized column for `CGPA`, `GRE Score` and `LOR`. We will name these columns `CGPA_std`, `GRE_std`, and `LOR_std` respecively.\n",
        "\n",
        "Recall that standardizing a column is done by subtracting the mean of the column from all observations in the column and then dividing each observation in the column by the column's standard deviation.\n",
        "\n",
        "In the cell below, write a standardization function (a function that takes a column as input and returns a standardized column as output). Make sure to use the `numpy` versions of mean and standard deviation."
      ]
    },
    {
      "cell_type": "code",
      "execution_count": null,
      "metadata": {
        "id": "RO45elplsYIr"
      },
      "outputs": [],
      "source": [
        "def standardize(col):\n",
        "    \"\"\"\n",
        "    This function takes a column from a dataframe \n",
        "    and returns a standardized column by subtracting the column's mean\n",
        "    and dividing by the column's standard deviation.\n",
        "    \"\"\"\n",
        "    \n",
        "    # your code here"
      ]
    },
    {
      "cell_type": "markdown",
      "metadata": {
        "id": "X3z9rHHqsYIs"
      },
      "source": [
        "Now create the standardized columns `CGPA_std`, `GRE_std`, and `LOR_std` and add them to the `admissions` dataframe."
      ]
    },
    {
      "cell_type": "code",
      "execution_count": null,
      "metadata": {
        "id": "DHQSl9YusYIt"
      },
      "outputs": [],
      "source": [
        "# your code here"
      ]
    },
    {
      "cell_type": "markdown",
      "metadata": {
        "id": "Q8HLey8-sYIt"
      },
      "source": [
        "We will generate the decision choice at random using the code below. Please run the cell."
      ]
    },
    {
      "cell_type": "code",
      "execution_count": null,
      "metadata": {
        "id": "hva1u-w_sYIx"
      },
      "outputs": [],
      "source": [
        "# Libraries\n",
        "from random import choices"
      ]
    },
    {
      "cell_type": "code",
      "execution_count": null,
      "metadata": {
        "id": "bX4rH7XysYIx"
      },
      "outputs": [],
      "source": [
        "std_columns = ['CGPA_std', 'GRE_std', 'LOR_std']\n",
        "\n",
        "decision_choice = choices(std_columns, k=admissions.shape[0])"
      ]
    },
    {
      "cell_type": "markdown",
      "metadata": {
        "id": "N7mBZ1E0sYIy"
      },
      "source": [
        "Now create the deciding column using the `lookup` function. The lookup column is `decision_choice` found above. Call the column resulting from the lookup function `deciding_column` and add it to the `admissions` dataframe."
      ]
    },
    {
      "cell_type": "code",
      "execution_count": null,
      "metadata": {
        "id": "yNB59Vj8sYIy"
      },
      "outputs": [],
      "source": [
        "# your code here"
      ]
    },
    {
      "cell_type": "markdown",
      "metadata": {
        "id": "4yewFMersYIz"
      },
      "source": [
        "Create a column called `decision` in the `admissions` dataframe. Assign 1 to this column if the value of `deciding_column` is greater than 0.8 and 0 otherwise."
      ]
    },
    {
      "cell_type": "code",
      "execution_count": null,
      "metadata": {
        "id": "3hzrocA2sYIz"
      },
      "outputs": [],
      "source": [
        "# your code here"
      ]
    },
    {
      "cell_type": "markdown",
      "metadata": {
        "id": "haNbFMVGsYIz"
      },
      "source": [
        "How many applicants will be accepted to the program using the decision column? Compute the result below."
      ]
    },
    {
      "cell_type": "code",
      "execution_count": null,
      "metadata": {
        "id": "ScSYULMisYI0"
      },
      "outputs": [],
      "source": [
        "# your code here"
      ]
    },
    {
      "cell_type": "markdown",
      "metadata": {
        "id": "9G62GfE3sYI1"
      },
      "source": [
        "# Challenge 3 - Method Chaining\n",
        "\n",
        "To increase our coding efficiency, let's make a number of changes to our dataframe in one line of code.\n",
        "\n",
        "In the cell below, remove all non character symbols from the column names, replace all spaces in column names to underscores, and change all upper case characters to lower case. Assign these new column values to `admissions.columns`."
      ]
    },
    {
      "cell_type": "code",
      "execution_count": null,
      "metadata": {
        "id": "CS-6rDlPsYI1"
      },
      "outputs": [],
      "source": [
        "# your code here"
      ]
    },
    {
      "cell_type": "markdown",
      "metadata": {
        "id": "QrMgR98AsYI2"
      },
      "source": [
        "In the cell below, give all student with a university rating of 4 or higher a 10 point boost on their GRE score and split the column into 4 bins using the `cut` function. Assign this new score to the variable `adjusted_gre`."
      ]
    },
    {
      "cell_type": "code",
      "execution_count": null,
      "metadata": {
        "id": "eTFBkaMhsYI2"
      },
      "outputs": [],
      "source": [
        "# your code here"
      ]
    }
  ],
  "metadata": {
    "kernelspec": {
      "display_name": "Python 3",
      "language": "python",
      "name": "python3"
    },
    "language_info": {
      "codemirror_mode": {
        "name": "ipython",
        "version": 3
      },
      "file_extension": ".py",
      "mimetype": "text/x-python",
      "name": "python",
      "nbconvert_exporter": "python",
      "pygments_lexer": "ipython3",
      "version": "3.7.2"
    },
    "colab": {
      "name": "main.ipynb",
      "provenance": []
    }
  },
  "nbformat": 4,
  "nbformat_minor": 0
}